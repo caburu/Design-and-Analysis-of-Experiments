{
  "nbformat": 4,
  "nbformat_minor": 0,
  "metadata": {
    "colab": {
      "name": "Semana1-AlgebraLinear-Python.ipynb",
      "version": "0.3.2",
      "provenance": [],
      "collapsed_sections": [],
      "include_colab_link": true
    },
    "kernelspec": {
      "name": "python3",
      "display_name": "Python 3"
    }
  },
  "cells": [
    {
      "cell_type": "markdown",
      "metadata": {
        "id": "view-in-github",
        "colab_type": "text"
      },
      "source": [
        "<a href=\"https://colab.research.google.com/github/caburu/Design-and-Analysis-of-Experiments/blob/master/coursera-machine-learning/Semana1_AlgebraLinear_Python.ipynb\" target=\"_parent\"><img src=\"https://colab.research.google.com/assets/colab-badge.svg\" alt=\"Open In Colab\"/></a>"
      ]
    },
    {
      "metadata": {
        "id": "LnfbKrAeF7-6",
        "colab_type": "code",
        "colab": {
          "base_uri": "https://localhost:8080/",
          "height": 204
        },
        "outputId": "c96a38b1-61b5-4085-8a53-88815f4ea643"
      },
      "cell_type": "code",
      "source": [
        "import numpy as np\n",
        "\n",
        "A = np.array([[1,2,3],[4,5,6],[7,8,9],[10,11,12]])\n",
        "v = np.array([[1],[2],[3]])\n",
        "(m,n) = A.shape\n",
        "dim_A = A.shape\n",
        "dim_v = v.shape\n",
        "A_23 = A[1,2]\n",
        "\n",
        "print(A)\n",
        "print(v)\n",
        "print(m,n)\n",
        "print(dim_A)\n",
        "print(dim_v)\n",
        "print(A_23)"
      ],
      "execution_count": 4,
      "outputs": [
        {
          "output_type": "stream",
          "text": [
            "[[ 1  2  3]\n",
            " [ 4  5  6]\n",
            " [ 7  8  9]\n",
            " [10 11 12]]\n",
            "[[1]\n",
            " [2]\n",
            " [3]]\n",
            "4 3\n",
            "(4, 3)\n",
            "(3, 1)\n",
            "6\n"
          ],
          "name": "stdout"
        }
      ]
    }
  ]
}